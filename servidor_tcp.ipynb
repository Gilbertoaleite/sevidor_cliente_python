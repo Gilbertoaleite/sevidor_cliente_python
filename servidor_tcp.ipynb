{
 "cells": [
  {
   "cell_type": "markdown",
   "id": "54f9708e",
   "metadata": {},
   "source": [
    "import socket\n",
    "\n",
    "resp=\"S\"\n",
    "while(resp==\"S\"):\n",
    "    url=input(\"Digite uma url de uma página: \")\n",
    "    ip=socket.gethostbyname(url)\n",
    "    print(f\"O IP referente ao {url} é {ip} \" )\n",
    "    resp=input(\"Digite <s> para continuar: \").upper()"
   ]
  },
  {
   "cell_type": "code",
   "execution_count": null,
   "id": "5db70ec2",
   "metadata": {},
   "outputs": [
    {
     "name": "stdout",
     "output_type": "stream",
     "text": [
      "Aguardando o cliente... \n",
      "Conectando com o:  ('127.0.0.1', 53387)\n",
      "Recebemos:  b'Ol\\xc3\\xa1 servidor'\n"
     ]
    }
   ],
   "source": [
    "from socket import *\n",
    "\n",
    "servidor=\"127.0.0.1\"\n",
    "porta=43210\n",
    "\n",
    "obj_socket = socket(AF_INET, SOCK_STREAM)\n",
    "obj_socket.bind((servidor,porta))\n",
    "obj_socket.listen(2)\n",
    "\n",
    "print(\"Aguardando o cliente... \")\n",
    "\n",
    "while True:\n",
    "    con, cliente = obj_socket.accept()\n",
    "    print(f\"Conectando com o:  {cliente}\")\n",
    "\n",
    "    while True:\n",
    "        msg_recebida = str(con.recv(1024))\n",
    "        print(f\"Recebemos:  {msg_recebida}\")\n",
    "        msg_enviada = b'Olah cliente'\n",
    "        con.send(msg_enviada)\n",
    "        break\n",
    "    con.close()"
   ]
  },
  {
   "cell_type": "code",
   "execution_count": null,
   "id": "c1d9764b",
   "metadata": {},
   "outputs": [],
   "source": []
  }
 ],
 "metadata": {
  "kernelspec": {
   "display_name": "Python 3",
   "language": "python",
   "name": "python3"
  },
  "language_info": {
   "codemirror_mode": {
    "name": "ipython",
    "version": 3
   },
   "file_extension": ".py",
   "mimetype": "text/x-python",
   "name": "python",
   "nbconvert_exporter": "python",
   "pygments_lexer": "ipython3",
   "version": "3.8.8"
  }
 },
 "nbformat": 4,
 "nbformat_minor": 5
}
