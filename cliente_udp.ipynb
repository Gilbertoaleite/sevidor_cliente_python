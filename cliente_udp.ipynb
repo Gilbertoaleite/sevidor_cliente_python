{
 "cells": [
  {
   "cell_type": "code",
   "execution_count": 2,
   "id": "c9bcd736",
   "metadata": {},
   "outputs": [
    {
     "name": "stdout",
     "output_type": "stream",
     "text": [
      "Sua mensagem: Oie\n",
      "Resposta do Servidor:  Oiee estou escutando\n",
      "Digite para continuar <S> ou <X> para sair: s\n",
      "Sua mensagem: enviando pacote\n",
      "Resposta do Servidor:  recebido\n",
      "Digite para continuar <S> ou <X> para sair: x\n"
     ]
    }
   ],
   "source": [
    "from socket import *\n",
    "\n",
    "servidor=\"127.0.0.1\"\n",
    "porta=43210\n",
    "\n",
    "obj_socket = socket(AF_INET, SOCK_DGRAM)\n",
    "obj_socket.connect((servidor, porta))\n",
    "saida=\"\"\n",
    "\n",
    "while saida!=\"X\":\n",
    "    msg = input(\"Sua mensagem: \")\n",
    "    obj_socket.sendto(msg.encode(), (servidor,porta))\n",
    "    dados, origem = obj_socket.recvfrom(65535)\n",
    "    print(\"Resposta do Servidor: \", dados.decode())\n",
    "    saida=input(\"Digite para continuar <S> ou <X> para sair: \").upper()\n",
    "    \n",
    "obj_socket.close()"
   ]
  },
  {
   "cell_type": "code",
   "execution_count": null,
   "id": "1bbd8520",
   "metadata": {},
   "outputs": [],
   "source": []
  }
 ],
 "metadata": {
  "kernelspec": {
   "display_name": "Python 3",
   "language": "python",
   "name": "python3"
  },
  "language_info": {
   "codemirror_mode": {
    "name": "ipython",
    "version": 3
   },
   "file_extension": ".py",
   "mimetype": "text/x-python",
   "name": "python",
   "nbconvert_exporter": "python",
   "pygments_lexer": "ipython3",
   "version": "3.8.8"
  }
 },
 "nbformat": 4,
 "nbformat_minor": 5
}
