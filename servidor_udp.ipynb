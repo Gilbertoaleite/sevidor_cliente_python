{
 "cells": [
  {
   "cell_type": "code",
   "execution_count": null,
   "id": "28ac597f",
   "metadata": {},
   "outputs": [
    {
     "name": "stdout",
     "output_type": "stream",
     "text": [
      "Servidor pronto....\n",
      "Origem:  ('127.0.0.1', 55300)\n",
      "Dados recebidos..Oie\n",
      "Digite a resposta: Oiee estou escutando\n",
      "Origem:  ('127.0.0.1', 55300)\n",
      "Dados recebidos..enviando pacote\n",
      "Digite a resposta: recebido\n"
     ]
    }
   ],
   "source": [
    "from socket import *\n",
    "\n",
    "servidor=\"127.0.0.1\"\n",
    "porta=43210\n",
    "\n",
    "obj_socket = socket(AF_INET, SOCK_DGRAM)\n",
    "obj_socket.bind((servidor,porta))\n",
    "print(\"Servidor pronto....\")\n",
    "\n",
    "while True:\n",
    "    dados, origem = obj_socket.recvfrom(65535)\n",
    "    print(f\"Origem:  {origem}\")\n",
    "    print(f\"Dados recebidos..{dados.decode()}\")\n",
    "    resposta=input(\"Digite a resposta: \")\n",
    "    obj_socket.sendto(resposta.encode(), origem)\n",
    "\n",
    "obj_socket.close()"
   ]
  },
  {
   "cell_type": "code",
   "execution_count": null,
   "id": "ff5c9e2b",
   "metadata": {},
   "outputs": [],
   "source": []
  }
 ],
 "metadata": {
  "kernelspec": {
   "display_name": "Python 3",
   "language": "python",
   "name": "python3"
  },
  "language_info": {
   "codemirror_mode": {
    "name": "ipython",
    "version": 3
   },
   "file_extension": ".py",
   "mimetype": "text/x-python",
   "name": "python",
   "nbconvert_exporter": "python",
   "pygments_lexer": "ipython3",
   "version": "3.8.8"
  }
 },
 "nbformat": 4,
 "nbformat_minor": 5
}
