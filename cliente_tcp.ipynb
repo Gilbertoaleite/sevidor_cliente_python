{
 "cells": [
  {
   "cell_type": "code",
   "execution_count": 2,
   "id": "d05ae964",
   "metadata": {},
   "outputs": [
    {
     "name": "stdout",
     "output_type": "stream",
     "text": [
      "Digite o seu nome: Olá servidor\n",
      "Recebemos: b'Olah cliente'\n"
     ]
    }
   ],
   "source": [
    "from socket import *\n",
    "\n",
    "servidor='127.0.0.1'\n",
    "porta=43210\n",
    "\n",
    "msg = bytes(input(\"Digite o seu nome: \"), 'utf-8')\n",
    "obj_socket = socket(AF_INET, SOCK_STREAM)\n",
    "obj_socket.connect((servidor,porta))\n",
    "obj_socket.send(msg)\n",
    "resposta = obj_socket.recv(1024)\n",
    "print(f\"Recebemos: {resposta}\")\n",
    "obj_socket.close()"
   ]
  },
  {
   "cell_type": "code",
   "execution_count": null,
   "id": "b015825b",
   "metadata": {},
   "outputs": [],
   "source": []
  }
 ],
 "metadata": {
  "kernelspec": {
   "display_name": "Python 3",
   "language": "python",
   "name": "python3"
  },
  "language_info": {
   "codemirror_mode": {
    "name": "ipython",
    "version": 3
   },
   "file_extension": ".py",
   "mimetype": "text/x-python",
   "name": "python",
   "nbconvert_exporter": "python",
   "pygments_lexer": "ipython3",
   "version": "3.8.8"
  }
 },
 "nbformat": 4,
 "nbformat_minor": 5
}
